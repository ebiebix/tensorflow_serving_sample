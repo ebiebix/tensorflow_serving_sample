{
 "cells": [
  {
   "cell_type": "code",
   "execution_count": 2,
   "metadata": {},
   "outputs": [],
   "source": [
    "import os\n",
    "\n",
    "import tensorflow as tf\n",
    "\n",
    "class SampleModel(tf.keras.Model):\n",
    "\n",
    "  @tf.function(\n",
    "    input_signature=(\n",
    "      tf.TensorSpec(shape=[None, None], dtype=tf.string, name='input_1'),\n",
    "      tf.TensorSpec(shape=[None, 1], dtype=tf.string, name='input_2'),\n",
    "    )\n",
    "  )\n",
    "  def batch_add(\n",
    "    self,\n",
    "    input_1: tf.Tensor,\n",
    "    input_2: tf.Tensor,\n",
    "  ) -> tf.Tensor:\n",
    "    return input_1 + input_2\n",
    "\n",
    "  def save(self, export_dir='./'):\n",
    "    SAVED_MODEL_FILE: str = 'saved_model.pb'\n",
    "    tf.keras.backend.set_learning_phase(0)\n",
    "    tf.saved_model.save(self, export_dir, signatures=self.batch_add)\n",
    "    saved_model_path = os.path.join(export_dir, SAVED_MODEL_FILE)\n",
    "    return saved_model_path"
   ]
  },
  {
   "cell_type": "code",
   "execution_count": 3,
   "metadata": {},
   "outputs": [
    {
     "name": "stdout",
     "output_type": "stream",
     "text": [
      "WARNING:tensorflow:Skipping full serialization of Keras layer <__main__.SampleModel object at 0x105c07e80>, because it is not built.\n",
      "INFO:tensorflow:Assets written to: ./sample_model/00123/assets\n"
     ]
    },
    {
     "name": "stderr",
     "output_type": "stream",
     "text": [
      "/Users/s14219/tensorflow_serving_sample/.venv/lib/python3.10/site-packages/keras/backend.py:451: UserWarning: `tf.keras.backend.set_learning_phase` is deprecated and will be removed after 2020-10-11. To update it, simply pass a True/False value to the `training` argument of the `__call__` method of your layer or model.\n",
      "  warnings.warn(\n"
     ]
    },
    {
     "data": {
      "text/plain": [
       "'./sample_model/00123/saved_model.pb'"
      ]
     },
     "execution_count": 3,
     "metadata": {},
     "output_type": "execute_result"
    }
   ],
   "source": [
    "sample_model = SampleModel()\n",
    "sample_model.save('./sample_model/00123/')"
   ]
  }
 ],
 "metadata": {
  "kernelspec": {
   "display_name": "Python 3",
   "language": "python",
   "name": "python3"
  },
  "language_info": {
   "codemirror_mode": {
    "name": "ipython",
    "version": 3
   },
   "file_extension": ".py",
   "mimetype": "text/x-python",
   "name": "python",
   "nbconvert_exporter": "python",
   "pygments_lexer": "ipython3",
   "version": "3.10.12"
  }
 },
 "nbformat": 4,
 "nbformat_minor": 2
}
