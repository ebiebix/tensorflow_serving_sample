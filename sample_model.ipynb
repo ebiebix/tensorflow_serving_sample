{
 "cells": [
  {
   "cell_type": "code",
   "execution_count": 3,
   "metadata": {
    "tags": []
   },
   "outputs": [],
   "source": [
    "import os\n",
    "\n",
    "import tensorflow as tf\n",
    "\n",
    "class SampleModel(tf.keras.Model):\n",
    "\n",
    "  @tf.function(\n",
    "    input_signature=(\n",
    "      tf.TensorSpec(shape=[None, None], dtype=tf.int32, name='input_1'),\n",
    "      tf.TensorSpec(shape=[None, 1], dtype=tf.int32, name='input_2'),\n",
    "    )\n",
    "  )\n",
    "  def batch_add(\n",
    "    self,\n",
    "    input_1: tf.Tensor,\n",
    "    input_2: tf.Tensor,\n",
    "  ) -> tf.Tensor:\n",
    "    return input_1 + input_2\n",
    "\n",
    "  def save(self, export_dir='./'):\n",
    "    SAVED_MODEL_FILE: str = 'saved_model.pb'\n",
    "    tf.keras.backend.set_learning_phase(0)\n",
    "    tf.saved_model.save(self, export_dir, signatures=self.batch_add)\n",
    "    saved_model_path = os.path.join(export_dir, SAVED_MODEL_FILE)\n",
    "    return saved_model_path"
   ]
  },
  {
   "cell_type": "code",
   "execution_count": 4,
   "metadata": {
    "tags": []
   },
   "outputs": [
    {
     "name": "stdout",
     "output_type": "stream",
     "text": [
      "WARNING:tensorflow:Skipping full serialization of Keras layer <__main__.SampleModel object at 0x7fb1e0d9faf0>, because it is not built.\n"
     ]
    },
    {
     "name": "stderr",
     "output_type": "stream",
     "text": [
      "/opt/conda/lib/python3.10/site-packages/keras/src/backend.py:452: UserWarning: `tf.keras.backend.set_learning_phase` is deprecated and will be removed after 2020-10-11. To update it, simply pass a True/False value to the `training` argument of the `__call__` method of your layer or model.\n",
      "  warnings.warn(\n",
      "WARNING:tensorflow:Skipping full serialization of Keras layer <__main__.SampleModel object at 0x7fb1e0d9faf0>, because it is not built.\n"
     ]
    },
    {
     "name": "stdout",
     "output_type": "stream",
     "text": [
      "INFO:tensorflow:Assets written to: ./src/sample_model/000123/assets\n"
     ]
    },
    {
     "name": "stderr",
     "output_type": "stream",
     "text": [
      "INFO:tensorflow:Assets written to: ./src/sample_model/000123/assets\n"
     ]
    },
    {
     "data": {
      "text/plain": [
       "'./src/sample_model/000123/saved_model.pb'"
      ]
     },
     "execution_count": 4,
     "metadata": {},
     "output_type": "execute_result"
    }
   ],
   "source": [
    "sample_model = SampleModel()\n",
    "sample_model.save('./src/sample_model/000123/')"
   ]
  }
 ],
 "metadata": {
  "environment": {
   "kernel": "python3",
   "name": "tf2-cpu.2-13.m116",
   "type": "gcloud",
   "uri": "gcr.io/deeplearning-platform-release/tf2-cpu.2-13:m116"
  },
  "kernelspec": {
   "display_name": "Python 3 (Local)",
   "language": "python",
   "name": "python3"
  },
  "language_info": {
   "codemirror_mode": {
    "name": "ipython",
    "version": 3
   },
   "file_extension": ".py",
   "mimetype": "text/x-python",
   "name": "python",
   "nbconvert_exporter": "python",
   "pygments_lexer": "ipython3",
   "version": "3.10.13"
  }
 },
 "nbformat": 4,
 "nbformat_minor": 4
}
